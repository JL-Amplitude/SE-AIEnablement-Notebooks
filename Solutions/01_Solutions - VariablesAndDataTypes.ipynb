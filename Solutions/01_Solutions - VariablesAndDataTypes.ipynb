{
 "cells": [
  {
   "cell_type": "markdown",
   "id": "e7c9b578",
   "metadata": {},
   "source": [
    "# 🐍 Python Data Types: Interactive Exercises\n",
    "These exercises will help you practice different data types in Python. Run each cell and modify them as needed."
   ]
  },
  {
   "cell_type": "markdown",
   "id": "03fade14",
   "metadata": {},
   "source": [
    "### 1. Numeric Types\n",
    "Write a program that takes two numbers as input and prints their sum, product, and average."
   ]
  },
  {
   "cell_type": "code",
   "execution_count": null,
   "id": "8ec4480f",
   "metadata": {},
   "outputs": [],
   "source": [
    "num1 = float(input(\"Enter first number: \"))\n",
    "num2 = float(input(\"Enter second number: \"))\n",
    "\n",
    "sum_result = num1 + num2\n",
    "product = num1 * num2\n",
    "average = (num1 + num2) / 2\n",
    "\n",
    "print(\"Sum =\", sum_result)\n",
    "print(\"Product =\", product)\n",
    "print(\"Average =\", average)"
   ]
  },
  {
   "cell_type": "markdown",
   "id": "fc7ea42e",
   "metadata": {},
   "source": [
    "### 2. String Manipulation\n",
    "Ask the user to enter their full name and print the name in uppercase and the number of characters (excluding spaces)."
   ]
  },
  {
   "cell_type": "code",
   "execution_count": null,
   "id": "e8ccfb39",
   "metadata": {},
   "outputs": [],
   "source": [
    "full_name = input(\"Enter your full name: \")\n",
    "name_upper = full_name.upper()\n",
    "char_count = len(full_name.replace(\" \", \"\"))\n",
    "\n",
    "print(\"Uppercase:\", name_upper)\n",
    "print(\"Character count (no spaces):\", char_count)"
   ]
  },
  {
   "cell_type": "markdown",
   "id": "0ab6da7f",
   "metadata": {},
   "source": [
    "### 3. List Practice\n",
    "Create a list of 5 numbers, add a new number, remove the second item, and print the modified list."
   ]
  },
  {
   "cell_type": "code",
   "execution_count": null,
   "id": "f213a260",
   "metadata": {},
   "outputs": [],
   "source": [
    "numbers = [5, 10, 15, 20, 25]\n",
    "print(\"Original list:\", numbers)\n",
    "\n",
    "numbers.append(30)  # Add number\n",
    "numbers.pop(1)      # Remove second item (index 1)\n",
    "\n",
    "print(\"Modified list:\", numbers)"
   ]
  },
  {
   "cell_type": "markdown",
   "id": "d26d0abe",
   "metadata": {},
   "source": [
    "### 4. Tuple Practice\n",
    "Create a tuple with 3 fruits and try to change the second one. What happens?"
   ]
  },
  {
   "cell_type": "code",
   "execution_count": null,
   "id": "29d4d5f3",
   "metadata": {},
   "outputs": [],
   "source": [
    "fruits = (\"apple\", \"banana\", \"cherry\")\n",
    "# fruits[1] = \"orange\"  # ❌ This will raise an error\n",
    "print(\"Tuples are immutable; you cannot change elements.\")"
   ]
  },
  {
   "cell_type": "markdown",
   "id": "18d4418c",
   "metadata": {},
   "source": [
    "### 5. Dictionary Practice\n",
    "Create a dictionary and update it by adding a new key and modifying a value."
   ]
  },
  {
   "cell_type": "code",
   "execution_count": null,
   "id": "ea5a121d",
   "metadata": {},
   "outputs": [],
   "source": [
    "person = {\n",
    "    \"name\": \"Alice\",\n",
    "    \"age\": 30,\n",
    "    \"city\": \"New York\"\n",
    "}\n",
    "\n",
    "print(\"Original:\", person)\n",
    "\n",
    "person[\"email\"] = \"alice@example.com\"\n",
    "person[\"age\"] = 31\n",
    "\n",
    "print(\"Updated:\", person)"
   ]
  },
  {
   "cell_type": "markdown",
   "id": "3de52104",
   "metadata": {},
   "source": [
    "### 6. Set Practice\n",
    "Create two sets and find their intersection, union, and difference."
   ]
  },
  {
   "cell_type": "code",
   "execution_count": null,
   "id": "26d0e75e",
   "metadata": {},
   "outputs": [],
   "source": [
    "a = {1, 2, 3, 4}\n",
    "b = {3, 4, 5, 6}\n",
    "\n",
    "print(\"Intersection:\", a & b)\n",
    "print(\"Union:\", a | b)\n",
    "print(\"Difference (a - b):\", a - b)"
   ]
  },
  {
   "cell_type": "markdown",
   "id": "04d04815",
   "metadata": {},
   "source": [
    "### 7. Boolean Logic\n",
    "Ask the user for their age and print whether they're old enough to vote."
   ]
  },
  {
   "cell_type": "code",
   "execution_count": null,
   "id": "b8447eed",
   "metadata": {},
   "outputs": [],
   "source": [
    "age = int(input(\"Enter your age: \"))\n",
    "can_vote = age >= 18\n",
    "print(\"Old enough to vote:\", can_vote)"
   ]
  },
  {
   "cell_type": "markdown",
   "id": "4df33e49",
   "metadata": {},
   "source": [
    "### 8. Type Conversion\n",
    "Convert values to different types and print the results."
   ]
  },
  {
   "cell_type": "code",
   "execution_count": null,
   "id": "180483e3",
   "metadata": {},
   "outputs": [],
   "source": [
    "val1 = int(\"25\")      # 25\n",
    "val2 = int(12.9)      # 12\n",
    "val3 = float(5)       # 5.0\n",
    "val4 = str(100)       # \"100\"\n",
    "\n",
    "print(val1, type(val1))\n",
    "print(val2, type(val2))\n",
    "print(val3, type(val3))\n",
    "print(val4, type(val4))"
   ]
  },
  {
   "cell_type": "markdown",
   "id": "ba1dda93",
   "metadata": {},
   "source": [
    "### 9. Range and Loop\n",
    "Print all even numbers from 0 to 20 using a loop."
   ]
  },
  {
   "cell_type": "code",
   "execution_count": null,
   "id": "5deb2f1d",
   "metadata": {},
   "outputs": [],
   "source": [
    "for num in range(0, 21, 2):\n",
    "    print(num)"
   ]
  },
  {
   "cell_type": "markdown",
   "id": "c4b38a64",
   "metadata": {},
   "source": [
    "### 10. None Type\n",
    "Check if a variable has no value using `None`."
   ]
  },
  {
   "cell_type": "code",
   "execution_count": null,
   "id": "6d8f1554",
   "metadata": {},
   "outputs": [],
   "source": [
    "value = None\n",
    "\n",
    "if value is None:\n",
    "    print(\"No value found\")\n",
    "else:\n",
    "    print(\"Value exists\")"
   ]
  }
 ],
 "metadata": {
  "kernelspec": {
   "display_name": "Python 3 (ipykernel)",
   "language": "python",
   "name": "python3"
  },
  "language_info": {
   "codemirror_mode": {
    "name": "ipython",
    "version": 3
   },
   "file_extension": ".py",
   "mimetype": "text/x-python",
   "name": "python",
   "nbconvert_exporter": "python",
   "pygments_lexer": "ipython3",
   "version": "3.9.6"
  }
 },
 "nbformat": 4,
 "nbformat_minor": 5
}
