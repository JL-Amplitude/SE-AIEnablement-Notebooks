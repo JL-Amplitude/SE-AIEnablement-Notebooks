{
 "cells": [
  {
   "cell_type": "code",
   "execution_count": null,
   "id": "4e34e71c",
   "metadata": {},
   "outputs": [],
   "source": [
    "import numpy as np\n",
    "import pandas as pd\n",
    "import matplotlib.pyplot as plt\n",
    "%matplotlib inline"
   ]
  },
  {
   "cell_type": "code",
   "execution_count": null,
   "id": "6306c930",
   "metadata": {},
   "outputs": [],
   "source": [
    "def gradient_descent(x,y):\n",
    "    \n",
    "    #step 1 we initally take random value of m & b here i took 0\n",
    "    m_curr=0\n",
    "    b_curr=0\n",
    "    \n",
    "    #step 2 we n which is number of Δ which would be equal to number of x we have\n",
    "    n=len(x)\n",
    "    \n",
    "    #step 3 we took the learning rate\n",
    "    rate=0.01\n",
    "    \n",
    "    #step 4 we took iterations we want. \n",
    "    it_num=1000                           \n",
    "    \n",
    "    #step 5 we plot the graph\n",
    "    plt.scatter(x,y,color=\"black\")\n",
    "    \n",
    "    #step 6 we iterate the it times \n",
    "    for i in range(it_num):\n",
    "        yp=m_curr*x+b_curr                   #y predicted\n",
    "        plt.plot(x,yp,color=\"yellow\")        #sum of square of every delta value\n",
    "        md=-(2/n)*sum(x*(y-yp))              #partial derivative of m\n",
    "        bd=-(2/n)*sum(y-yp)                  #partial derivative of b\n",
    "        m_curr=m_curr-rate*md\n",
    "        b_curr=b_curr-rate*bd\n",
    "\n",
    "x=np.array([1,2,3,4,5])\n",
    "y=np.array([5,7,9,11,13])\n",
    "\n",
    "gradient_descent(x,y)"
   ]
  }
 ],
 "metadata": {
  "language_info": {
   "name": "python"
  }
 },
 "nbformat": 4,
 "nbformat_minor": 5
}
