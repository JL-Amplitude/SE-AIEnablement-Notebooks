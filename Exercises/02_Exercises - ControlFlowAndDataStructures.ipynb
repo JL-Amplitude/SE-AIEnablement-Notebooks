{
 "cells": [
  {
   "cell_type": "markdown",
   "id": "987a0ada",
   "metadata": {},
   "source": [
    "# Python Control Flow and Loop Exercises\n",
    "\n",
    "This notebook contains 5 exercises to help you practice Python control flow and loop structures."
   ]
  },
  {
   "cell_type": "markdown",
   "id": "eef9ff88",
   "metadata": {},
   "source": [
    "## Exercise 1: Odd or Even\n",
    "Write a program that asks the user for a number and tells whether it is **even** or **odd**."
   ]
  },
  {
   "cell_type": "code",
   "execution_count": null,
   "id": "79a318f9",
   "metadata": {},
   "outputs": [],
   "source": [
    "num = int(input(\"Enter a number: \"))\n",
    "\n",
    "if num % 2 == 0:\n",
    "    print(\"Even\")\n",
    "else:\n",
    "    print(\"Odd\")"
   ]
  },
  {
   "cell_type": "markdown",
   "id": "f488c9ef",
   "metadata": {},
   "source": [
    "## Exercise 2: Sum of First N Numbers\n",
    "Write a program that takes a number `n` and prints the sum of the first `n` natural numbers using a `for` loop."
   ]
  },
  {
   "cell_type": "code",
   "execution_count": null,
   "id": "f3a2e3e3",
   "metadata": {},
   "outputs": [],
   "source": [
    "n = int(input(\"Enter a number: \"))\n",
    "total = 0\n",
    "\n",
    "for i in range(1, n + 1):\n",
    "    total += i\n",
    "\n",
    "print(\"Sum:\", total)"
   ]
  },
  {
   "cell_type": "markdown",
   "id": "05797a69",
   "metadata": {},
   "source": [
    "## Exercise 3: Password Checker with `while` Loop\n",
    "Keep asking the user for a password until they enter the correct one: `'OpenSesame'`."
   ]
  },
  {
   "cell_type": "code",
   "execution_count": null,
   "id": "2ef6ea05",
   "metadata": {},
   "outputs": [],
   "source": [
    "correct_password = \"OpenSesame\"\n",
    "password = \"\"\n",
    "\n",
    "while password != correct_password:\n",
    "    password = input(\"Enter password: \")\n",
    "\n",
    "print(\"Access granted.\")"
   ]
  },
  {
   "cell_type": "markdown",
   "id": "87472bfe",
   "metadata": {},
   "source": [
    "## Exercise 4: Skip Multiples of 3\n",
    "Print numbers from 1 to 20, but skip those divisible by 3 using `continue`."
   ]
  },
  {
   "cell_type": "code",
   "execution_count": null,
   "id": "b919202f",
   "metadata": {},
   "outputs": [],
   "source": [
    "for i in range(1, 21):\n",
    "    if i % 3 == 0:\n",
    "        continue\n",
    "    print(i)"
   ]
  },
  {
   "cell_type": "markdown",
   "id": "16442785",
   "metadata": {},
   "source": [
    "## Exercise 5: Prime Check with `for-else`\n",
    "Write a program that checks whether a number is **prime** using a `for-else` loop."
   ]
  },
  {
   "cell_type": "code",
   "execution_count": null,
   "id": "7be9353e",
   "metadata": {},
   "outputs": [],
   "source": [
    "num = int(input(\"Enter a number: \"))\n",
    "\n",
    "if num < 2:\n",
    "    print(\"Not prime\")\n",
    "else:\n",
    "    for i in range(2, int(num**0.5) + 1):\n",
    "        if num % i == 0:\n",
    "            print(\"Not prime\")\n",
    "            break\n",
    "    else:\n",
    "        print(\"Prime\")"
   ]
  }
 ],
 "metadata": {},
 "nbformat": 4,
 "nbformat_minor": 5
}
