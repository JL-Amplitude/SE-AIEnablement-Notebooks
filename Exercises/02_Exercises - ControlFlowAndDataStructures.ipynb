{
 "cells": [
  {
   "cell_type": "markdown",
   "id": "987a0ada",
   "metadata": {},
   "source": [
    "# Python Control Flow and Loop Exercises\n",
    "\n",
    "This notebook contains 5 exercises to help you practice Python control flow and loop structures."
   ]
  },
  {
   "cell_type": "markdown",
   "id": "eef9ff88",
   "metadata": {},
   "source": [
    "## Exercise 1: Odd or Even\n",
    "Write a program that asks the user for a number and tells whether it is **even** or **odd**."
   ]
  },
  {
   "cell_type": "code",
   "execution_count": null,
   "id": "79a318f9",
   "metadata": {},
   "outputs": [],
   "source": [
    "num = # Ask the user for the number\n",
    "\n",
    "# Check on a conditional whether it is even of odd --> Hint: % operation will give you the rest of a division"
   ]
  },
  {
   "cell_type": "markdown",
   "id": "f488c9ef",
   "metadata": {},
   "source": [
    "## Exercise 2: Sum of First N Numbers\n",
    "Write a program that takes a number `n` and prints the sum of the first `n` natural numbers using a `for` loop."
   ]
  },
  {
   "cell_type": "code",
   "execution_count": null,
   "id": "f3a2e3e3",
   "metadata": {},
   "outputs": [],
   "source": [
    "n = # Ask the user for the number, remember it will be considered a string so need cast to an integer\n",
    "total = 0\n",
    "\n",
    "for i in # Range on the input)\n",
    "    # Increment total with the current number (which is stored in variable i ...)\n",
    "\n",
    "print(\"Sum:\", total)"
   ]
  },
  {
   "cell_type": "markdown",
   "id": "05797a69",
   "metadata": {},
   "source": [
    "## Exercise 3: Password Checker with `while` Loop\n",
    "Keep asking the user for a password until they enter the correct one: `'OpenSesame'`."
   ]
  },
  {
   "cell_type": "code",
   "execution_count": null,
   "id": "2ef6ea05",
   "metadata": {},
   "outputs": [],
   "source": [
    "correct_password = \"OpenSesame\"\n",
    "password = \"\"\n",
    "\n",
    "while # the password is incorret\n",
    "    password = # Ask user for the password\n",
    "\n",
    "# Print access suceessful message"
   ]
  },
  {
   "cell_type": "markdown",
   "id": "87472bfe",
   "metadata": {},
   "source": [
    "## Exercise 4: Skip Multiples of 3\n",
    "Print numbers from 1 to 20, but skip those divisible by 3 using `continue`."
   ]
  },
  {
   "cell_type": "code",
   "execution_count": null,
   "id": "b919202f",
   "metadata": {},
   "outputs": [],
   "source": [
    "for i in # Define a range in beteen 1 and 21 (to avoid 20 being left out):\n",
    "    # Check wheter the current number (i) is divisible by 3 (remember %)\n",
    "        continue\n",
    "    print(i)"
   ]
  },
  {
   "cell_type": "markdown",
   "id": "16442785",
   "metadata": {},
   "source": [
    "## Exercise 5: Prime Check with `for-else`\n",
    "Write a program that checks whether a number is **prime** using a `for-else` loop."
   ]
  },
  {
   "cell_type": "code",
   "execution_count": null,
   "id": "7be9353e",
   "metadata": {},
   "outputs": [],
   "source": [
    "# Ask the user for a number and store it in the variable num\n",
    "\n",
    "# Check whether num is less than 2 (not a prime):\n",
    "    print(\"Not prime\")\n",
    "else:\n",
    "    # Loop on primes --> Hint: primes are in a range(2, int(num**0.5) + 1):\n",
    "        # Check wheter division of nim by i is zero meaning num is not a prime \n",
    "            ## Display not a prime\n",
    "            break\n",
    "    else:\n",
    "        # Display number is prime"
   ]
  }
 ],
 "metadata": {
  "language_info": {
   "name": "python"
  }
 },
 "nbformat": 4,
 "nbformat_minor": 5
}
