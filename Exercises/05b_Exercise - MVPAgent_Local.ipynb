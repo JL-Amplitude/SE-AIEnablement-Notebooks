{
 "cells": [
  {
   "cell_type": "markdown",
   "metadata": {},
   "source": [
    "# 🧠 LLM Agent (MVP) Using a Local Model\n",
    "\n",
    "This beginner notebook demonstrates a basic agent architecture using a **local LLM** like one run via [Ollama](https://ollama.com), LM Studio, or similar interfaces.\n",
    "\n",
    "### ✅ Features:\n",
    "- Simple agent loop\n",
    "- Tool use: calculator\n",
    "- Local model integration via HTTP (OpenAI-compatible API or other)\n",
    "\n",
    "👉 Make sure you have a local LLM running (like `llama3`, `mistral`, etc.) via Ollama or LM Studio."
   ]
  },
  {
   "cell_type": "code",
   "execution_count": null,
   "metadata": {},
   "outputs": [],
   "source": [
    "# 📦 Install required packages\n",
    "# !pip install requests"
   ]
  },
  {
   "cell_type": "code",
   "execution_count": null,
   "metadata": {},
   "outputs": [],
   "source": [
    "import requests\n",
    "import json"
   ]
  },
  {
   "cell_type": "markdown",
   "metadata": {},
   "source": [
    "## 🧮 Calculator Tool"
   ]
  },
  {
   "cell_type": "code",
   "execution_count": null,
   "metadata": {},
   "outputs": [],
   "source": [
    "def calculator(expression: str) -> str:\n",
    "    try:\n",
    "        result = eval(expression)\n",
    "        return f\"Result: {result}\"\n",
    "    except Exception as e:\n",
    "        return f\"Calculator Error: {str(e)}\""
   ]
  },
  {
   "cell_type": "markdown",
   "metadata": {},
   "source": [
    "## 🔍 Decide if we should use a tool"
   ]
  },
  {
   "cell_type": "code",
   "execution_count": null,
   "metadata": {},
   "outputs": [],
   "source": [
    "def decide_tool(prompt: str) -> str:\n",
    "    if any(op in prompt for op in [\"+\", \"-\", \"*\", \"/\"]):\n",
    "        return \"calculator\"\n",
    "    return \"none\""
   ]
  },
  {
   "cell_type": "markdown",
   "metadata": {},
   "source": [
    "## 🤖 Function to query your local LLM API\n",
    "- This example assumes you're using **Ollama** (running at `http://localhost:11434`) with a model like `llama3`\n",
    "- You can adjust the URL and payload format depending on your local setup"
   ]
  },
  {
   "cell_type": "code",
   "execution_count": null,
   "metadata": {},
   "outputs": [],
   "source": [
    "def query_local_llm(prompt: str, model: str = \"llama3\") -> str:\n",
    "    url = \"http://localhost:11434/api/generate\"\n",
    "    payload = {\n",
    "        \"model\": model,\n",
    "        \"prompt\": prompt,\n",
    "        \"stream\": False\n",
    "    }\n",
    "    try:\n",
    "        response = requests.post(url, json=payload)\n",
    "        response.raise_for_status()\n",
    "        data = response.json()\n",
    "        return data.get(\"response\", \"[No response from LLM]\")\n",
    "    except Exception as e:\n",
    "        return f\"[Error calling local LLM: {str(e)}]\""
   ]
  },
  {
   "cell_type": "markdown",
   "metadata": {},
   "source": [
    "## 🔁 Run the Agent"
   ]
  },
  {
   "cell_type": "code",
   "execution_count": null,
   "metadata": {},
   "outputs": [],
   "source": [
    "def run_local_agent(user_input: str):\n",
    "    tool = decide_tool(user_input)\n",
    "    thoughts = [f\"User asked: {user_input}\"]\n",
    "\n",
    "    if tool == \"calculator\":\n",
    "        result = calculator(user_input)\n",
    "        thoughts.append(f\"Used calculator: {result}\")\n",
    "        final_answer = result\n",
    "    else:\n",
    "        result = query_local_llm(user_input)\n",
    "        thoughts.append(\"Used local LLM.\")\n",
    "        final_answer = result\n",
    "\n",
    "    print(\"\\n--- Thoughts ---\")\n",
    "    for t in thoughts:\n",
    "        print(\"•\", t)\n",
    "    print(\"\\n--- Answer ---\")\n",
    "    print(final_answer)"
   ]
  },
  {
   "cell_type": "markdown",
   "metadata": {},
   "source": [
    "## 🚀 Try the Agent!"
   ]
  },
  {
   "cell_type": "code",
   "execution_count": null,
   "metadata": {},
   "outputs": [],
   "source": [
    "while True:\n",
    "    user_input = input(\"\\n🧑 What do you want to do? (type 'exit' to quit)\\n> \")\n",
    "    if user_input.lower() == \"exit\":\n",
    "        break\n",
    "    run_local_agent(user_input)"
   ]
  }
 ],
 "metadata": {
  "kernelspec": {
   "display_name": "Python 3",
   "language": "python",
   "name": "python3"
  },
  "language_info": {
   "name": "python"
  }
 },
 "nbformat": 4,
 "nbformat_minor": 2
}
