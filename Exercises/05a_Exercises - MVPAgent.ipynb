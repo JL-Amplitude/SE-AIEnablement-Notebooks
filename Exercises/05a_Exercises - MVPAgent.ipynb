{
 "cells": [
  {
   "cell_type": "markdown",
   "metadata": {},
   "source": [
    "# 🤖 Minimal Viable Product: LLM Agent in Python\n",
    "\n",
    "This beginner-friendly notebook demonstrates how to build a simple LLM-based agent in Python. The agent can reason about input, use tools like a calculator, and generate responses using OpenAI's GPT model.\n",
    "\n",
    "### 💡 Features\n",
    "- Takes user input\n",
    "- Determines if a tool (calculator) is needed\n",
    "- Uses OpenAI's API for general reasoning\n",
    "- Shows internal thoughts of the agent\n",
    "\n",
    "### 🔧 Libraries\n",
    "\n",
    "pip install openai python-dotenv"
   ]
  },
  {
   "cell_type": "code",
   "execution_count": null,
   "metadata": {},
   "outputs": [],
   "source": [
    "# bash\n",
    "pip install openai python-dotenv"
   ]
  },
  {
   "cell_type": "markdown",
   "metadata": {},
   "source": [
    "### 🔐 Setup .env\n",
    "\n",
    "In the same folder as your .py file, create a new file named .env (just .env, no extensions), and put your OpenAI API key inside like this:"
   ]
  },
  {
   "cell_type": "code",
   "execution_count": null,
   "metadata": {},
   "outputs": [],
   "source": [
    "\n",
    "# env\n",
    "OPENAI_API_KEY=your_openai_api_key_here"
   ]
  },
  {
   "cell_type": "markdown",
   "metadata": {},
   "source": [
    "## 🧪 Project"
   ]
  },
  {
   "cell_type": "code",
   "execution_count": null,
   "metadata": {},
   "outputs": [],
   "source": [
    "# 📦 Setup\n",
    "# Make sure to install the required packages first:\n",
    "# !pip install openai python-dotenv\n",
    "\n",
    "import openai\n",
    "import os\n",
    "from dotenv import load_dotenv"
   ]
  },
  {
   "cell_type": "code",
   "execution_count": null,
   "metadata": {},
   "outputs": [],
   "source": [
    "# 🔐 Load your API key from .env file\n",
    "load_dotenv()\n",
    "openai.api_key = os.getenv(\"OPENAI_API_KEY\")"
   ]
  },
  {
   "cell_type": "markdown",
   "metadata": {},
   "source": [
    "## 🧮 Calculator Tool\n",
    "This simple tool evaluates basic math expressions."
   ]
  },
  {
   "cell_type": "code",
   "execution_count": null,
   "metadata": {},
   "outputs": [],
   "source": [
    "def calculator(expression: str) -> str:\n",
    "    try:\n",
    "        result = eval(expression)\n",
    "        return f\"Result: {result}\"\n",
    "    except Exception as e:\n",
    "        return f\"Calculator Error: {str(e)}\""
   ]
  },
  {
   "cell_type": "markdown",
   "metadata": {},
   "source": [
    "## 🔍 Decide if a tool should be used\n",
    "This function checks if the input contains math operators."
   ]
  },
  {
   "cell_type": "code",
   "execution_count": null,
   "metadata": {},
   "outputs": [],
   "source": [
    "def decide_tool(prompt: str) -> str:\n",
    "    if any(op in prompt for op in [\"+\", \"-\", \"*\", \"/\"]):\n",
    "        return \"calculator\"\n",
    "    return \"none\""
   ]
  },
  {
   "cell_type": "markdown",
   "metadata": {},
   "source": [
    "## 🧠 Run the Agent\n",
    "This function routes the prompt to the right tool or LLM, and prints thoughts + answer."
   ]
  },
  {
   "cell_type": "code",
   "execution_count": null,
   "metadata": {},
   "outputs": [],
   "source": [
    "def run_agent(user_input: str):\n",
    "    tool = decide_tool(user_input)\n",
    "\n",
    "    thoughts = [f\"User asked: {user_input}\"]\n",
    "\n",
    "    if tool == \"calculator\":\n",
    "        result = calculator(user_input)\n",
    "        thoughts.append(f\"Used calculator: {result}\")\n",
    "        final_answer = result\n",
    "    else:\n",
    "        response = openai.ChatCompletion.create(\n",
    "            model=\"gpt-3.5-turbo\",\n",
    "            messages=[\n",
    "                {\"role\": \"system\", \"content\": \"You are a helpful assistant.\"},\n",
    "                {\"role\": \"user\", \"content\": user_input}\n",
    "            ]\n",
    "        )\n",
    "        final_answer = response.choices[0].message.content\n",
    "        thoughts.append(\"Used language model.\")\n",
    "\n",
    "    print(\"\\n--- Thoughts ---\")\n",
    "    for t in thoughts:\n",
    "        print(\"•\", t)\n",
    "    print(\"\\n--- Answer ---\")\n",
    "    print(final_answer)"
   ]
  },
  {
   "cell_type": "markdown",
   "metadata": {},
   "source": [
    "## 🚀 Try It!\n",
    "Run this cell and type questions or math problems."
   ]
  },
  {
   "cell_type": "code",
   "execution_count": null,
   "metadata": {},
   "outputs": [],
   "source": [
    "while True:\n",
    "    user_input = input(\"\\n🧑 What do you want to do? (type 'exit' to quit)\\n> \")\n",
    "    if user_input.lower() == \"exit\":\n",
    "        break\n",
    "    run_agent(user_input)"
   ]
  },
  {
   "cell_type": "markdown",
   "metadata": {},
   "source": [
    "## 🧠 Example Interactions\n",
    "Example interactions with this agent\n",
    "\n",
    "🧑 What do you want to do?\n",
    "> 2 + 3 * 4\n",
    "\n",
    "--- Thoughts ---\n",
    "• User asked: 2 + 3 * 4\n",
    "• Used calculator: Result: 14\n",
    "\n",
    "--- Answer ---\n",
    "Result: 14\n",
    "\n",
    "\n",
    "🧑 What do you want to do?\n",
    "> What is the capital of Japan?\n",
    "\n",
    "--- Thoughts ---\n",
    "• User asked: What is the capital of Japan?\n",
    "• Used language model.\n",
    "\n",
    "--- Answer ---\n",
    "The capital of Japan is Tokyo."
   ]
  }
 ],
 "metadata": {
  "kernelspec": {
   "display_name": "Python 3",
   "language": "python",
   "name": "python3"
  },
  "language_info": {
   "name": "python"
  }
 },
 "nbformat": 4,
 "nbformat_minor": 2
}
