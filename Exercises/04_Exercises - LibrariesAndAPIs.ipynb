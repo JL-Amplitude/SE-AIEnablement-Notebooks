{
 "cells": [
  {
   "cell_type": "markdown",
   "metadata": {},
   "source": [
    "# 📚 Python Libraries and API Usage – Beginner Exercises\n",
    "This notebook contains beginner-level exercises that help you learn how to use built-in and external libraries, as well as APIs in Python.\n",
    "\n",
    "Each exercise includes a solution."
   ]
  },
  {
   "cell_type": "markdown",
   "metadata": {},
   "source": [
    "## 🔢 Exercise 1: Using the `math` Library\n",
    "**Task:** Use the `math` library to calculate the square root, factorial, and sine of a number."
   ]
  },
  {
   "cell_type": "code",
   "execution_count": null,
   "metadata": {},
   "outputs": [],
   "source": [
    "# Import math library\n",
    "\n",
    "# Set a variable number to a specific int number\n",
    "# Display the square root --> Hint: math.sqrt\n",
    "# Display the factorial --> Hint: math.factorial\n",
    "# Display the sine of 90 degrees --> Hint: math.sin & math.radians"
   ]
  },
  {
   "cell_type": "markdown",
   "metadata": {},
   "source": [
    "## 📅 Exercise 2: Working with `datetime`\n",
    "**Task:** Display the current date and time, and format it nicely."
   ]
  },
  {
   "cell_type": "code",
   "execution_count": null,
   "metadata": {},
   "outputs": [],
   "source": [
    "# Import just datetime from datetime\n",
    "\n",
    "# Define the variable now with current datetime --> Hint: datatime.now\n",
    "print(\"Current datetime:\", now)\n",
    "print(\"Formatted:\", # Format now to (\"%A, %B %d, %Y %H:%M:%S\") format --? Hint: now.strftime"
   ]
  },
  {
   "cell_type": "markdown",
   "metadata": {},
   "source": [
    "## 🎲 Exercise 3: Generate Random Numbers\n",
    "**Task:** Use the `random` library to simulate rolling two dice."
   ]
  },
  {
   "cell_type": "code",
   "execution_count": null,
   "metadata": {},
   "outputs": [],
   "source": [
    "# Import library random\n",
    "\n",
    "# Get a first ramdom number die1 in between 1 and 6 --> Hint: random.randint\n",
    "# Get a second ramdom number die2 in between 1 and 6 --> Hint: random.randint\n",
    "# Display those two numbers and their sum"
   ]
  },
  {
   "cell_type": "markdown",
   "metadata": {},
   "source": [
    "## 🌐 Exercise 4: Simple API Call with `requests`\n",
    "**Task:** Use the [Agify API](https://agify.io/) to predict the age of a given name."
   ]
  },
  {
   "cell_type": "code",
   "execution_count": null,
   "metadata": {},
   "outputs": [],
   "source": [
    "# Import request library\n",
    "\n",
    "# Ask for a name to the user and store it in the variable name\n",
    "# Using \"https://api.agify.io?name={name}\", make a GET request and store it in variable response  \n",
    "# Store in variable data the data from the response --> Hint: response.json()\n",
    "# Print the predicted age of name getting the age from data"
   ]
  },
  {
   "cell_type": "markdown",
   "metadata": {},
   "source": [
    "## 📰 Exercise 5: Get Random Joke from Joke API\n",
    "**Task:** Use the [Official Joke API](https://official-joke-api.appspot.com/) to get a random programming joke."
   ]
  },
  {
   "cell_type": "code",
   "execution_count": null,
   "metadata": {},
   "outputs": [],
   "source": [
    "# Import requests library\n",
    "\n",
    "url = \"https://official-joke-api.appspot.com/jokes/programming/random\"\n",
    "# Get the response from the url --> Hint: look at request.get\n",
    "\n",
    "# Check whether the response status code is success --> Hint: response.status_code == 200\n",
    "    # Get the response and store it into joke variabl --> Hint: Rememeber data holds the response in JSON format, response.json()[0]\n",
    "    print(joke['setup'])\n",
    "    print(joke['punchline'])\n",
    "else:\n",
    "    print(\"Couldn't fetch joke.\")"
   ]
  },
  {
   "cell_type": "markdown",
   "metadata": {},
   "source": [
    "## 🌦️ (Bonus) Exercise 6: Weather API Request (OpenWeatherMap)\n",
    "**Task:** Fetch weather data for a city. Requires a free API key from [OpenWeatherMap](https://openweathermap.org/)."
   ]
  },
  {
   "cell_type": "code",
   "execution_count": null,
   "metadata": {},
   "outputs": [],
   "source": [
    "# You need to replace YOUR_API_KEY with your actual OpenWeatherMap API key\n",
    "# Import requests library\n",
    "\n",
    "api_key = \"YOUR_API_KEY\"\n",
    "city = \"London\"\n",
    "url = f\"https://api.openweathermap.org/data/2.5/weather?q={city}&appid={api_key}&units=metric\"\n",
    "\n",
    "# Get the restponse --> Hint: requests.get(url)\n",
    "# Check whether the response status code is success --> Hint: response.status_code == 200\n",
    "    # Get the response and store it into weather variabl --> Hint: Rememeber data holds the response in JSON format, response.json()[0]\n",
    "    print(\"Temperature:\", weather['main']['temp'], \"°C\")\n",
    "    print(\"Description:\", weather['weather'][0]['description'])\n",
    "else:\n",
    "    print(\"Failed to retrieve data.\")"
   ]
  }
 ],
 "metadata": {
  "kernelspec": {
   "display_name": "Python 3",
   "language": "python",
   "name": "python3"
  },
  "language_info": {
   "name": "python"
  }
 },
 "nbformat": 4,
 "nbformat_minor": 2
}
