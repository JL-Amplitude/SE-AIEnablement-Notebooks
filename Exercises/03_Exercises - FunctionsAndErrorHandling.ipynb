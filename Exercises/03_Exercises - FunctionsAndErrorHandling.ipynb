{
 "cells": [
  {
   "cell_type": "markdown",
   "metadata": {},
   "source": [
    "# 🧪 Python Functions Practice Notebook\n",
    "This notebook contains exercises and solutions for learning different types of functions in Python:\n",
    "- Regular functions\n",
    "- Nested functions\n",
    "- Recursive functions\n",
    "- Lambda functions\n",
    "- Error handling\n"
   ]
  },
  {
   "cell_type": "markdown",
   "metadata": {},
   "source": [
    "## 🔧 1. Regular Function: Temperature Converter"
   ]
  },
  {
   "cell_type": "code",
   "execution_count": null,
   "metadata": {},
   "outputs": [],
   "source": [
    "# Define a function called zcelsius_to_fahrenheit that receive as a parameter the Celsius temp\n",
    "    try:\n",
    "        # Return the conversion --> Fahrenheit = Celsius * 9/5 + 32\n",
    "    # Catch exception TypeError:\n",
    "        return \"Input must be a number.\"\n",
    "\n",
    "# Test\n",
    "# Display the results calling your function wiht some example values\n",
    "print(celsius_to_fahrenheit(0))    # 32.0\n",
    "print(celsius_to_fahrenheit('abc'))  # Input must be a number."
   ]
  },
  {
   "cell_type": "markdown",
   "metadata": {},
   "source": [
    "## 🧬 2. Nested Function: Secure Access"
   ]
  },
  {
   "cell_type": "code",
   "execution_count": null,
   "metadata": {},
   "outputs": [],
   "source": [
    "def login_system():\n",
    "    # Define the function  verify_credentials that will receive 2 parameters username & password\n",
    "        # Check whether username is \"admin\" and password is \"1234\":\n",
    "            return \"Access granted\"\n",
    "        else:\n",
    "            return \"Access denied\"\n",
    "    \n",
    "    # Example test\n",
    "    # Test with correct and wrong examples\n",
    "    print(verify_credentials(\"admin\", \"1234\"))\n",
    "    print(verify_credentials(\"user\", \"pass\"))\n",
    "\n",
    "\n",
    "# Call your main function"
   ]
  },
  {
   "cell_type": "markdown",
   "metadata": {},
   "source": [
    "## 🔁 3. Recursive Function: Sum of Digits"
   ]
  },
  {
   "cell_type": "code",
   "execution_count": null,
   "metadata": {},
   "outputs": [],
   "source": [
    "# Define a function called sum_digits that receive as a parameter the number of digits to sum up\n",
    "    # Check wheter the parameter is actually an int --> Hint: Remember isinstance(n, int) or n < 0:\n",
    "        return \"Input must be a non-negative integer.\"\n",
    "    # Check the zero case\n",
    "        return 0\n",
    "    return # the rest of dividig the digit by 10 plus recursive call with digit divided by 10 \n",
    "\n",
    "# Test\n",
    "# Make some calls of your own to test the proper result\n",
    "print(sum_digits(123))  # 6\n",
    "print(sum_digits(-5))   # Error\n",
    "print(sum_digits('abc'))  # Error"
   ]
  },
  {
   "cell_type": "markdown",
   "metadata": {},
   "source": [
    "## ⚡ 4. Lambda Function: Double Even Numbers"
   ]
  },
  {
   "cell_type": "code",
   "execution_count": null,
   "metadata": {},
   "outputs": [],
   "source": [
    "# Define a list of numbers from 1 to 6 and store it in the variable nums\n",
    "# Apply Lambda to store even numbers in variable \"evens\" --> Hint: Remember \"filter\"\n",
    "# Apply Lambda to store the double of even numbers in the list --> Hint: Remember \"map\" doubled = list(map(lambda x: x * 2, evens))\n",
    "print(doubled)  # [4, 8, 12]"
   ]
  },
  {
   "cell_type": "markdown",
   "metadata": {},
   "source": [
    "## 🧠 5. Custom Sort with Lambda: Sort by Last Name"
   ]
  },
  {
   "cell_type": "code",
   "execution_count": null,
   "metadata": {},
   "outputs": [],
   "source": [
    "# Create a list of names and surnname, and store it in the variable names\n",
    "# Sort them by surname and store it in sorted_names --> Hint: remember \"sorted\" and \"split\" applied to name in a lambda function\n",
    "print(sorted_names)  # Ex.- ['Bob Clark', 'Alice Johnson', 'John Smith']"
   ]
  },
  {
   "cell_type": "markdown",
   "metadata": {},
   "source": [
    "## ⚠️ 6. Recursive Function with Error Handling: Factorial"
   ]
  },
  {
   "cell_type": "code",
   "execution_count": null,
   "metadata": {},
   "outputs": [],
   "source": [
    "# Define the function safe_factorial that receives a numeric parameter \n",
    "    # Check whether the paratemeter is an in --> Hint: Remember isinstance\n",
    "        raise TypeError(\"Input must be an integer.\")\n",
    "    # Check whether the paramenter is higher than zero\n",
    "        # Raise ValueError exception\n",
    "    # Cehck whether the number is zero\n",
    "        return 1 # Factorial of 0 is 1\n",
    "    # Return factorial vaule --> Hint: Recursive call with n * safe_factorial(n - 1)\n",
    "\n",
    "# Test\n",
    "# Try and test your own calls\n",
    "print(safe_factorial(5))\n",
    "\n",
    "# Uncomment to test errors:\n",
    "# print(safe_factorial(-2))\n",
    "# print(safe_factorial('abc'))"
   ]
  }
 ],
 "metadata": {
  "kernelspec": {
   "display_name": "Python 3",
   "language": "python",
   "name": "python3"
  },
  "language_info": {
   "name": "python",
   "version": ""
  }
 },
 "nbformat": 4,
 "nbformat_minor": 2
}
