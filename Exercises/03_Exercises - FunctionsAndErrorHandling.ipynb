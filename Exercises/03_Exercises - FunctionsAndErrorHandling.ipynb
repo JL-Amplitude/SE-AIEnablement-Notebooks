{
 "cells": [
  {
   "cell_type": "markdown",
   "metadata": {},
   "source": [
    "# 🧪 Python Functions Practice Notebook\n",
    "This notebook contains exercises and solutions for learning different types of functions in Python:\n",
    "- Regular functions\n",
    "- Nested functions\n",
    "- Recursive functions\n",
    "- Lambda functions\n",
    "- Error handling\n"
   ]
  },
  {
   "cell_type": "markdown",
   "metadata": {},
   "source": [
    "## 🔧 1. Regular Function: Temperature Converter"
   ]
  },
  {
   "cell_type": "code",
   "execution_count": null,
   "metadata": {},
   "outputs": [],
   "source": [
    "def celsius_to_fahrenheit(celsius):\n",
    "    try:\n",
    "        return celsius * 9/5 + 32\n",
    "    except TypeError:\n",
    "        return \"Input must be a number.\"\n",
    "\n",
    "# Test\n",
    "print(celsius_to_fahrenheit(0))    # 32.0\n",
    "print(celsius_to_fahrenheit('abc'))  # Input must be a number."
   ]
  },
  {
   "cell_type": "markdown",
   "metadata": {},
   "source": [
    "## 🧬 2. Nested Function: Secure Access"
   ]
  },
  {
   "cell_type": "code",
   "execution_count": null,
   "metadata": {},
   "outputs": [],
   "source": [
    "def login_system():\n",
    "    def verify_credentials(username, password):\n",
    "        if username == \"admin\" and password == \"1234\":\n",
    "            return \"Access granted\"\n",
    "        else:\n",
    "            return \"Access denied\"\n",
    "    \n",
    "    # Example test\n",
    "    print(verify_credentials(\"admin\", \"1234\"))\n",
    "    print(verify_credentials(\"user\", \"pass\"))\n",
    "\n",
    "login_system()"
   ]
  },
  {
   "cell_type": "markdown",
   "metadata": {},
   "source": [
    "## 🔁 3. Recursive Function: Sum of Digits"
   ]
  },
  {
   "cell_type": "code",
   "execution_count": null,
   "metadata": {},
   "outputs": [],
   "source": [
    "def sum_digits(n):\n",
    "    if not isinstance(n, int) or n < 0:\n",
    "        return \"Input must be a non-negative integer.\"\n",
    "    if n == 0:\n",
    "        return 0\n",
    "    return n % 10 + sum_digits(n // 10)\n",
    "\n",
    "# Test\n",
    "print(sum_digits(123))  # 6\n",
    "print(sum_digits(-5))   # Error\n",
    "print(sum_digits('abc'))  # Error"
   ]
  },
  {
   "cell_type": "markdown",
   "metadata": {},
   "source": [
    "## ⚡ 4. Lambda Function: Double Even Numbers"
   ]
  },
  {
   "cell_type": "code",
   "execution_count": null,
   "metadata": {},
   "outputs": [],
   "source": [
    "nums = [1, 2, 3, 4, 5, 6]\n",
    "evens = filter(lambda x: x % 2 == 0, nums)\n",
    "doubled = list(map(lambda x: x * 2, evens))\n",
    "print(doubled)  # [4, 8, 12]"
   ]
  },
  {
   "cell_type": "markdown",
   "metadata": {},
   "source": [
    "## 🧠 5. Custom Sort with Lambda: Sort by Last Name"
   ]
  },
  {
   "cell_type": "code",
   "execution_count": null,
   "metadata": {},
   "outputs": [],
   "source": [
    "names = [\"John Smith\", \"Alice Johnson\", \"Bob Clark\"]\n",
    "sorted_names = sorted(names, key=lambda name: name.split()[-1])\n",
    "print(sorted_names)  # ['Bob Clark', 'Alice Johnson', 'John Smith']"
   ]
  },
  {
   "cell_type": "markdown",
   "metadata": {},
   "source": [
    "## ⚠️ 6. Recursive Function with Error Handling: Factorial"
   ]
  },
  {
   "cell_type": "code",
   "execution_count": null,
   "metadata": {},
   "outputs": [],
   "source": [
    "def safe_factorial(n):\n",
    "    if not isinstance(n, int):\n",
    "        raise TypeError(\"Input must be an integer.\")\n",
    "    if n < 0:\n",
    "        raise ValueError(\"Input must be non-negative.\")\n",
    "    if n == 0:\n",
    "        return 1\n",
    "    return n * safe_factorial(n - 1)\n",
    "\n",
    "# Test\n",
    "print(safe_factorial(5))\n",
    "# Uncomment to test errors:\n",
    "# print(safe_factorial(-2))\n",
    "# print(safe_factorial('abc'))"
   ]
  }
 ],
 "metadata": {
  "kernelspec": {
   "display_name": "Python 3",
   "language": "python",
   "name": "python3"
  },
  "language_info": {
   "name": "python",
   "version": ""
  }
 },
 "nbformat": 4,
 "nbformat_minor": 2
}
