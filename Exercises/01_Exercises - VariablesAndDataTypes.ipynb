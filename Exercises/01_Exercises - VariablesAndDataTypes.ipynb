{
  "metadata": {
    "kernelspec": {
      "name": "python",
      "display_name": "Python (Pyodide)",
      "language": "python"
    },
    "language_info": {
      "codemirror_mode": {
        "name": "python",
        "version": 3
      },
      "file_extension": ".py",
      "mimetype": "text/x-python",
      "name": "python",
      "nbconvert_exporter": "python",
      "pygments_lexer": "ipython3",
      "version": "3.8"
    }
  },
  "nbformat_minor": 5,
  "nbformat": 4,
  "cells": [
    {
      "id": "e7c9b578",
      "cell_type": "markdown",
      "source": "# 🐍 Python Variables & Data Types: Interactive Exercises\nThese exercises will help you practice different data types in Python. Run each cell and modify them as needed.",
      "metadata": {}
    },
    {
      "id": "03fade14",
      "cell_type": "markdown",
      "source": "### 1. Numeric Types\nWrite a program that takes two numbers as input and prints their sum, product, and average.",
      "metadata": {}
    },
    {
      "id": "8ec4480f",
      "cell_type": "code",
      "source": "# Ask for the first number and store it into the variable called num1 which should expect a float\n# Ask for the second number and store it into the variable called num2 which should expect a float\n\n# Sum up the 2 variables and store it into sum_result\n# Multiply the 2 variables and store it into product\n# Average the 2 variables and store it into average\n\n# Display the results in the console",
      "metadata": {},
      "outputs": [],
      "execution_count": null
    },
    {
      "id": "fc7ea42e",
      "cell_type": "markdown",
      "source": "### 2. String Manipulation\nAsk the user to enter their full name and print the name in uppercase and the number of characters (excluding spaces).",
      "metadata": {}
    },
    {
      "id": "e8ccfb39",
      "cell_type": "code",
      "source": "# Ask the user to enter full name and store it in a variable named full_name\n# Transform the to uppercase and store it in a variable named name_upper (hint: check for function upper())\n# Count the characters excluding spaces and store it in a variable named char_count (hint: check for fucntion len())\n\n# Output the name in uppercase and the number of characters to the console",
      "metadata": {},
      "outputs": [],
      "execution_count": null
    },
    {
      "id": "0ab6da7f",
      "cell_type": "markdown",
      "source": "### 3. List Practice\nCreate a list of 5 numbers, add a new number, remove the second item, and print the modified list.",
      "metadata": {}
    },
    {
      "id": "f213a260",
      "cell_type": "code",
      "source": "numbers = [5, 10, 15, 20, 25]\nprint(\"Original list:\", numbers)\n\nnumbers.append(30)  # Add number\nnumbers.pop(1)      # Remove second item (index 1)\n\nprint(\"Modified list:\", numbers)",
      "metadata": {},
      "outputs": [],
      "execution_count": null
    },
    {
      "id": "d26d0abe",
      "cell_type": "markdown",
      "source": "### 4. Tuple Practice\nCreate a tuple with 3 fruits and try to change the second one. What happens?",
      "metadata": {}
    },
    {
      "id": "29d4d5f3",
      "cell_type": "code",
      "source": "fruits = (\"apple\", \"banana\", \"cherry\")\n# fruits[1] = \"orange\"  # ❌ This will raise an error\nprint(\"Tuples are immutable; you cannot change elements.\")",
      "metadata": {},
      "outputs": [],
      "execution_count": null
    },
    {
      "id": "18d4418c",
      "cell_type": "markdown",
      "source": "### 5. Dictionary Practice\nCreate a dictionary and update it by adding a new key and modifying a value.",
      "metadata": {}
    },
    {
      "id": "ea5a121d",
      "cell_type": "code",
      "source": "person = {\n    \"name\": \"Alice\",\n    \"age\": 30,\n    \"city\": \"New York\"\n}\n\nprint(\"Original:\", person)\n\nperson[\"email\"] = \"alice@example.com\"\nperson[\"age\"] = 31\n\nprint(\"Updated:\", person)",
      "metadata": {},
      "outputs": [],
      "execution_count": null
    },
    {
      "id": "3de52104",
      "cell_type": "markdown",
      "source": "### 6. Set Practice\nCreate two sets and find their intersection, union, and difference.",
      "metadata": {}
    },
    {
      "id": "26d0e75e",
      "cell_type": "code",
      "source": "a = {1, 2, 3, 4}\nb = {3, 4, 5, 6}\n\nprint(\"Intersection:\", a & b)\nprint(\"Union:\", a | b)\nprint(\"Difference (a - b):\", a - b)",
      "metadata": {},
      "outputs": [],
      "execution_count": null
    },
    {
      "id": "04d04815",
      "cell_type": "markdown",
      "source": "### 7. Boolean Logic\nAsk the user for their age and print whether they're old enough to vote.",
      "metadata": {}
    },
    {
      "id": "b8447eed",
      "cell_type": "code",
      "source": "age = int(input(\"Enter your age: \"))\ncan_vote = age >= 18\nprint(\"Old enough to vote:\", can_vote)",
      "metadata": {},
      "outputs": [],
      "execution_count": null
    },
    {
      "id": "4df33e49",
      "cell_type": "markdown",
      "source": "### 8. Type Conversion\nConvert values to different types and print the results.",
      "metadata": {}
    },
    {
      "id": "180483e3",
      "cell_type": "code",
      "source": "val1 = int(\"25\")      # 25\nval2 = int(12.9)      # 12\nval3 = float(5)       # 5.0\nval4 = str(100)       # \"100\"\n\nprint(val1, type(val1))\nprint(val2, type(val2))\nprint(val3, type(val3))\nprint(val4, type(val4))",
      "metadata": {},
      "outputs": [],
      "execution_count": null
    },
    {
      "id": "ba1dda93",
      "cell_type": "markdown",
      "source": "### 9. Range and Loop\nPrint all even numbers from 0 to 20 using a loop.",
      "metadata": {}
    },
    {
      "id": "5deb2f1d",
      "cell_type": "code",
      "source": "for num in range(0, 21, 2):\n    print(num)",
      "metadata": {},
      "outputs": [],
      "execution_count": null
    },
    {
      "id": "c4b38a64",
      "cell_type": "markdown",
      "source": "### 10. None Type\nCheck if a variable has no value using `None`.",
      "metadata": {}
    },
    {
      "id": "6d8f1554",
      "cell_type": "code",
      "source": "value = None\n\nif value is None:\n    print(\"No value found\")\nelse:\n    print(\"Value exists\")",
      "metadata": {},
      "outputs": [],
      "execution_count": null
    }
  ]
}