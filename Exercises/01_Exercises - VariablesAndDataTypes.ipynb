{
  "cells": [
    {
      "cell_type": "markdown",
      "id": "e7c9b578",
      "metadata": {},
      "source": [
        "# 🐍 Python Variables & Data Types: Interactive Exercises\n",
        "These exercises will help you practice different data types in Python. Run each cell and modify them as needed."
      ]
    },
    {
      "cell_type": "markdown",
      "id": "03fade14",
      "metadata": {},
      "source": [
        "### 1. Numeric Types\n",
        "Write a program that takes two numbers as input and prints their sum, product, and average."
      ]
    },
    {
      "cell_type": "code",
      "execution_count": null,
      "id": "8ec4480f",
      "metadata": {},
      "outputs": [],
      "source": [
        "# Ask for the first number and store it into the variable called num1 which should expect a float\n",
        "# Ask for the second number and store it into the variable called num2 which should expect a float\n",
        "\n",
        "# Sum up the 2 variables and store it into sum_result\n",
        "# Multiply the 2 variables and store it into product\n",
        "# Average the 2 variables and store it into average\n",
        "\n",
        "# Display the results in the console"
      ]
    },
    {
      "cell_type": "markdown",
      "id": "fc7ea42e",
      "metadata": {},
      "source": [
        "### 2. String Manipulation\n",
        "Ask the user to enter their full name and print the name in uppercase and the number of characters (excluding spaces)."
      ]
    },
    {
      "cell_type": "code",
      "execution_count": null,
      "id": "e8ccfb39",
      "metadata": {},
      "outputs": [],
      "source": [
        "# Ask the user to enter full name and store it in a variable named full_name\n",
        "# Transform the to uppercase and store it in a variable named name_upper (hint: check for function upper())\n",
        "# Count the characters excluding spaces and store it in a variable named char_count (hint: check for fucntion len())\n",
        "\n",
        "# Output the name in uppercase and the number of characters to the console"
      ]
    },
    {
      "cell_type": "markdown",
      "id": "0ab6da7f",
      "metadata": {},
      "source": [
        "### 3. List Practice\n",
        "Create a list of 5 numbers, add a new number, remove the second item, and print the modified list."
      ]
    },
    {
      "cell_type": "code",
      "execution_count": null,
      "id": "f213a260",
      "metadata": {},
      "outputs": [],
      "source": [
        "# Create a list of 5 numbes and store it in the variabl numbers\n",
        "# Disply the list to console\n",
        "\n",
        "# Add number --> Have a look to \"append\" method \n",
        "# Remove second item (index 1) --> Have a look at \"pop\" method\n",
        "\n",
        "print(\"Modified list:\", numbers)"
      ]
    },
    {
      "cell_type": "markdown",
      "id": "d26d0abe",
      "metadata": {},
      "source": [
        "### 4. Tuple Practice\n",
        "Create a tuple with 3 fruits and try to change the second one. What happens?"
      ]
    },
    {
      "cell_type": "code",
      "execution_count": null,
      "id": "29d4d5f3",
      "metadata": {},
      "outputs": [],
      "source": [
        "# Create a tuple with 3 fruits and store it in the vaiable fruits\n",
        "# Change the second element fruits[1] --> ❌ This will raise an error\n",
        "\n",
        "print(\"Tuples are immutable; you cannot change elements.\")"
      ]
    },
    {
      "cell_type": "markdown",
      "id": "18d4418c",
      "metadata": {},
      "source": [
        "### 5. Dictionary Practice\n",
        "Use a dictionary and update it by adding a new key and modifying a value."
      ]
    },
    {
      "cell_type": "code",
      "execution_count": null,
      "id": "ea5a121d",
      "metadata": {},
      "outputs": [],
      "source": [
        "person = {\n",
        "    \"name\": \"Alice\",\n",
        "    \"age\": 30,\n",
        "    \"city\": \"New York\"\n",
        "}\n",
        "\n",
        "# Display the dictionary in the console\n",
        "\n",
        "# Add one entry with your email\n",
        "# Add the entry for your age\n",
        "# Add the entry for your city\n",
        "\n",
        "print(\"Updated:\", person)"
      ]
    },
    {
      "cell_type": "markdown",
      "id": "3de52104",
      "metadata": {},
      "source": [
        "### 6. Set Practice\n",
        "Create two sets and find their intersection, union, and difference."
      ]
    },
    {
      "cell_type": "code",
      "execution_count": null,
      "id": "26d0e75e",
      "metadata": {},
      "outputs": [],
      "source": [
        "a = {1, 2, 3, 4}\n",
        "b = {3, 4, 5, 6}\n",
        "\n",
        "# Display intersection (&)\n",
        "# Display union (|)\n",
        "# Display difference (-)"
      ]
    },
    {
      "cell_type": "markdown",
      "id": "04d04815",
      "metadata": {},
      "source": [
        "### 7. Boolean Logic\n",
        "Ask the user for their age and print whether they're old enough to vote."
      ]
    },
    {
      "cell_type": "code",
      "execution_count": null,
      "id": "b8447eed",
      "metadata": {},
      "outputs": [],
      "source": [
        "# Ask the user for their age and store it in variable age\n",
        "# Check whether the user is >= 18 so can vote, and store it in the variable can_vote\n",
        "print(\"Old enough to vote:\", can_vote)"
      ]
    },
    {
      "cell_type": "markdown",
      "id": "4df33e49",
      "metadata": {},
      "source": [
        "### 8. Type Conversion\n",
        "Convert values to different types and print the results."
      ]
    },
    {
      "cell_type": "code",
      "execution_count": null,
      "id": "180483e3",
      "metadata": {},
      "outputs": [],
      "source": [
        "# Convert \"25\" as a string to an int, store it in val1\n",
        "# Convert 12.9 to an int, store it in val2\n",
        "# Convert 5 (int) to 5.0 (float), store it in val3\n",
        "# convert 100 to a string \"100\", store it in val4\n",
        "\n",
        "# Print the type or the different values --> Hint: use type(...)\n"
      ]
    },
    {
      "cell_type": "markdown",
      "id": "c4b38a64",
      "metadata": {},
      "source": [
        "### 9. None Type\n",
        "Check if a variable has no value using `None`."
      ]
    },
    {
      "cell_type": "code",
      "execution_count": null,
      "id": "6d8f1554",
      "metadata": {},
      "outputs": [],
      "source": [
        "# Assign None to a vaiable\n",
        "\n",
        "# Check wheter the value is None to print a message, else another differet message\n"
      ]
    }
  ],
  "metadata": {
    "kernelspec": {
      "display_name": "Python (Pyodide)",
      "language": "python",
      "name": "python"
    },
    "language_info": {
      "codemirror_mode": {
        "name": "python",
        "version": 3
      },
      "file_extension": ".py",
      "mimetype": "text/x-python",
      "name": "python",
      "nbconvert_exporter": "python",
      "pygments_lexer": "ipython3",
      "version": "3.8"
    }
  },
  "nbformat": 4,
  "nbformat_minor": 5
}
